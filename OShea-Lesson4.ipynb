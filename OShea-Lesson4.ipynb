{
 "cells": [
  {
   "cell_type": "code",
   "execution_count": 1,
   "metadata": {},
   "outputs": [],
   "source": [
    "from datascience import *"
   ]
  },
  {
   "cell_type": "markdown",
   "metadata": {},
   "source": [
    "# 1)."
   ]
  },
  {
   "cell_type": "code",
   "execution_count": 2,
   "metadata": {},
   "outputs": [],
   "source": [
    "#creates the three variables needed\n",
    "name=\"Garrett O'Shea\"\n",
    "age=\"21\"\n",
    "hometown=\"Butler, NJ\""
   ]
  },
  {
   "cell_type": "code",
   "execution_count": 4,
   "metadata": {},
   "outputs": [
    {
     "name": "stdout",
     "output_type": "stream",
     "text": [
      "I am Garrett O'Shea. I am 21 years old. I'm from Butler, NJ\n"
     ]
    }
   ],
   "source": [
    "#Prints the sentence in problem 1\n",
    "sentence=\"I am \" + name + \". I am \" + age + \" years old. I'm from \" + hometown\n",
    "print(sentence)"
   ]
  },
  {
   "cell_type": "code",
   "execution_count": 5,
   "metadata": {},
   "outputs": [
    {
     "name": "stdout",
     "output_type": "stream",
     "text": [
      "garrett o'shea\n"
     ]
    }
   ],
   "source": [
    "#prints my name lower case\n",
    "lower_name=name.lower()\n",
    "print(lower_name)"
   ]
  },
  {
   "cell_type": "code",
   "execution_count": 14,
   "metadata": {},
   "outputs": [
    {
     "name": "stdout",
     "output_type": "stream",
     "text": [
      "Garrett O'Shea\n"
     ]
    }
   ],
   "source": [
    "proper_name=name.replace('g', 'G')\n",
    "new_proper_name=proper_name.replace('o', 'O')\n",
    "print(new_proper_name)"
   ]
  },
  {
   "cell_type": "markdown",
   "metadata": {},
   "source": [
    "# 2)."
   ]
  },
  {
   "cell_type": "code",
   "execution_count": 7,
   "metadata": {},
   "outputs": [
    {
     "name": "stdout",
     "output_type": "stream",
     "text": [
      "he is Garrett O'Shea. he is 21 years old. he's from Butler, NJ\n"
     ]
    }
   ],
   "source": [
    "#prints the new sentence after replacing what is asked\n",
    "new_sentence=sentence.replace(\"I am\", \"he is\")\n",
    "newest_sentence=new_sentence.replace(\"I'm\", \"he's\")\n",
    "print(newest_sentence)"
   ]
  },
  {
   "cell_type": "markdown",
   "metadata": {},
   "source": [
    "# 3)."
   ]
  },
  {
   "cell_type": "code",
   "execution_count": 12,
   "metadata": {},
   "outputs": [
    {
     "data": {
      "text/plain": [
       "False"
      ]
     },
     "execution_count": 12,
     "metadata": {},
     "output_type": "execute_result"
    }
   ],
   "source": [
    "#Returns a boolean response for the asked question\n",
    "int(age)+40<=len(sentence)"
   ]
  }
 ],
 "metadata": {
  "kernelspec": {
   "display_name": "Python 3",
   "language": "python",
   "name": "python3"
  },
  "language_info": {
   "codemirror_mode": {
    "name": "ipython",
    "version": 3
   },
   "file_extension": ".py",
   "mimetype": "text/x-python",
   "name": "python",
   "nbconvert_exporter": "python",
   "pygments_lexer": "ipython3",
   "version": "3.6.5"
  }
 },
 "nbformat": 4,
 "nbformat_minor": 2
}
